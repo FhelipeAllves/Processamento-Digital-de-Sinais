{
 "cells": [
  {
   "cell_type": "markdown",
   "metadata": {},
   "source": [
    "## Implementação da Tranformada Discreta de Fourier - DFT "
   ]
  },
  {
   "cell_type": "code",
   "execution_count": 1,
   "metadata": {},
   "outputs": [],
   "source": [
    "import numpy as np\n",
    "import matplotlib.pyplot as plt \n",
    "from scipy.signal import unit_impulse"
   ]
  },
  {
   "cell_type": "markdown",
   "metadata": {},
   "source": [
    "# Sinal no tempo de discreto\n",
    "$x(n) =\n",
    "\\begin{cases} \n",
    "1, & \\frac{N1}{2} \\leq n < \\frac{N1}{2} \\\\\n",
    "0, & \\text{c.c.}\n",
    "\\end{cases}$\n",
    "\n"
   ]
  },
  {
   "cell_type": "code",
   "execution_count": 3,
   "metadata": {},
   "outputs": [],
   "source": [
    "def porta(n, N1):\n",
    "    if n >= -N1 and n <= N1:\n",
    "        return 1\n",
    "    return 0"
   ]
  },
  {
   "cell_type": "markdown",
   "metadata": {},
   "source": [
    "# Sinal no tempo discreto 2"
   ]
  },
  {
   "cell_type": "code",
   "execution_count": 82,
   "metadata": {},
   "outputs": [],
   "source": [
    "def porta_2(N1, N):\n",
    "    x = np.zeros(N)\n",
    "    i = -N1\n",
    "    for i in range(N1):\n",
    "        if ((i%2) == 0):\n",
    "            x[i] = 1\n",
    "        else:\n",
    "            x[i] = 0\n",
    "    return x"
   ]
  },
  {
   "cell_type": "code",
   "execution_count": 108,
   "metadata": {},
   "outputs": [
    {
     "name": "stdout",
     "output_type": "stream",
     "text": [
      "[0. 1. 0. 1. 0. 1. 0. 1.]\n"
     ]
    }
   ],
   "source": [
    "N = 8 # Tamanho da DFT\n",
    "\n",
    "N1 = 5 # Tamanho da porta simétrica em y\n",
    "\n",
    "i =  N - N1\n",
    "\n",
    "x = np.zeros(N)\n",
    "for i in range(len(x)):\n",
    "    if ( ((i+N-N1)%2) == 0 ):\n",
    "        x[i] = 1\n",
    "    else:\n",
    "        x[i] = 0\n",
    "print(x)"
   ]
  },
  {
   "cell_type": "markdown",
   "metadata": {},
   "source": [
    "# DFT\n",
    "\n",
    "Representação matricial\n",
    "\n",
    "Vamos iniciar relembrando que a Transformada Discreta de Fourier (DFT) é uma representação discreta do espectro de frequências de sinais no tempo discreto x(n), cuja expressão é dada por:\n",
    "\n",
    "$X[k] = \\sum_{n=0}^{N-1} x(n) W_N^{kn}$,\n",
    "\n",
    "\n",
    "sendo\n",
    "\n",
    "\n",
    "$W_N = e^{-j\\frac{2\\pi}{N}}$.\n",
    "\n",
    "Para um determinado \\( k \\) temos\n",
    "\n",
    "$X[k] = x(0)e^{-j\\frac{2\\pi k \\cdot 0}{N}} + x(1)e^{-j\\frac{2\\pi k \\cdot 1}{N}} + \\dots + x(N-1)e^{-j\\frac{2\\pi k (N-1)}{N}}$\n",
    "\n",
    "que pode ser escrita como\n",
    "\n",
    "$X[k] = \n",
    "\\begin{bmatrix} \n",
    "1 & e^{-j\\frac{2\\pi k}{N}} & e^{-j\\frac{2\\pi k \\cdot 2}{N}} & \\dots & e^{-j\\frac{2\\pi k (N-1)}{N}}\n",
    "\\end{bmatrix}\n",
    "\\begin{bmatrix} \n",
    "x(0) \\\\ \n",
    "x(1) \\\\ \n",
    "x(2) \\\\ \n",
    "\\vdots \\\\ \n",
    "x(N-1)\n",
    "\\end{bmatrix}$\n",
    "\n",
    "estendendo essa representação para todos os valores de \\( k \\) obtemos\n",
    "\n",
    "$\\mathbf{X} =\n",
    "\\begin{bmatrix} \n",
    "1 & 1 & 1 & \\dots & 1 \\\\ \n",
    "1 & e^{-j\\frac{2\\pi}{N}} & e^{-j\\frac{2\\pi \\cdot 2}{N}} & \\dots & e^{-j\\frac{2\\pi (N-1)}{N}} \\\\ \n",
    "\\vdots & \\vdots & \\vdots & \\ddots & \\vdots \\\\ \n",
    "1 & e^{-j\\frac{2\\pi (N-1)}{N}} & e^{-j\\frac{2\\pi (N-1) \\cdot 2}{N}} & \\dots & e^{-j\\frac{2\\pi (N-1)(N-1)}{N}} \n",
    "\\end{bmatrix}\n",
    "\\begin{bmatrix} \n",
    "x(0) \\\\ \n",
    "x(1) \\\\ \n",
    "\\vdots \\\\ \n",
    "x(N-1)\n",
    "\\end{bmatrix}$\n",
    "\n"
   ]
  },
  {
   "cell_type": "code",
   "execution_count": null,
   "metadata": {},
   "outputs": [
    {
     "data": {
      "text/plain": [
       "[<matplotlib.lines.Line2D at 0x2b9858e7d10>]"
      ]
     },
     "execution_count": 121,
     "metadata": {},
     "output_type": "execute_result"
    },
    {
     "data": {
      "image/png": "[encoded data removed]",
      "text/plain": [
       "<Figure size 600x400 with 1 Axes>"
      ]
     },
     "metadata": {},
     "output_type": "display_data"
    },
    {
     "data": {
      "image/png": "[encoded data removed]",
      "text/plain": [
       "<Figure size 640x480 with 1 Axes>"
      ]
     },
     "metadata": {},
     "output_type": "display_data"
    }
   ],
   "source": [
    "N = 8 # Tamanho da DFT\n",
    "\n",
    "N1 = 5 # Tamanho da porta simétrica em y\n",
    "\n",
    "k = np.array([np.arange(0, N)]) # Número de amostras\n",
    "n = np.arange(0, N) # Índice do somatório\n",
    "k_T = k.reshape(-1, 1) # Número de amostras organizadas como uma matriz Nx1\n",
    "\n",
    "# func = np.array([porta(i, N1) for i in n]) # Sinal no tempo discreto\n",
    "# func = porta_2(N1, N) # Sinal no tempo discreto\n",
    "func = np.zeros(N) # Impulso \n",
    "func[0] = 1        # Deslocamento\n",
    "\n",
    "func_T = func.reshape(-1, 1) # Amostras organizadas como uma matriz Nx1\n",
    "\n",
    "Wn = np.exp(-2j*np.pi/N) \n",
    "\n",
    "M_result = Wn**(k_T*n) # Matriz com as exponenciais complexas\n",
    "\n",
    "DFT = M_result @ func_T\n",
    "\n",
    "plt.figure(figsize=(6, 4))\n",
    "plt.stem(n,func)\n",
    "plt.xlim(-5,5)\n",
    "\n",
    "plt.figure()\n",
    "plt.plot(k_T,np.abs(DFT))\n"
   ]
  },
  {
   "cell_type": "code",
   "execution_count": 84,
   "metadata": {},
   "outputs": [
    {
     "data": {
      "text/latex": [
       "$\\displaystyle \\begin{bmatrix}1.00 & 0.00 & 1.00 & 0.00 & 1.00 & 0.00 & 0.00 & 0.00\\end{bmatrix}$"
      ],
      "text/plain": [
       "<IPython.core.display.Math object>"
      ]
     },
     "metadata": {},
     "output_type": "display_data"
    }
   ],
   "source": [
    "import numpy as np\n",
    "from IPython.display import display, Math\n",
    "\n",
    "def print_latex_matrix(A):\n",
    "    \"\"\"Imprime uma matriz (real ou complexa) de qualquer dimensão em formato LaTeX no notebook Jupyter.\"\"\"\n",
    "    \n",
    "    A = np.atleast_2d(A)  # Converte para matriz 2D se for um vetor ou escalar\n",
    "\n",
    "    if A.ndim > 2:\n",
    "        raise ValueError(\"Apenas matrizes 1D ou 2D são suportadas para exibição em LaTeX.\")\n",
    "\n",
    "    def format_complex(z):\n",
    "        \"\"\"Formata um número real ou complexo para exibição em LaTeX.\"\"\"\n",
    "        if isinstance(z, complex) or np.iscomplexobj(z):\n",
    "            real_part = f\"{z.real:.2f}\" if z.real != 0 else \"\"\n",
    "            imag_part = f\"{abs(z.imag):.2f}j\" if z.imag != 0 else \"\"\n",
    "            sign = \"+\" if z.imag > 0 and z.real != 0 else \"-\"\n",
    "            return f\"{real_part}{sign}{imag_part}\" if (z.real or z.imag) else \"0\"\n",
    "        return f\"{z:.2f}\"  # Formata números reais com 2 casas decimais\n",
    "\n",
    "    matrix_latex = r\"\\begin{bmatrix}\" + \" \\\\\\\\ \".join(\n",
    "        [\" & \".join(map(format_complex, row)) for row in A]\n",
    "    ) + r\"\\end{bmatrix}\"\n",
    "    \n",
    "    display(Math(matrix_latex))\n",
    "\n",
    "# print_latex_matrix(len(k_T*n))\n",
    "# print_latex_matrix(M_result)\n",
    "print_latex_matrix(func)\n"
   ]
  },
  {
   "cell_type": "code",
   "execution_count": null,
   "metadata": {},
   "outputs": [],
   "source": []
  }
 ],
 "metadata": {
  "kernelspec": {
   "display_name": "Python 3",
   "language": "python",
   "name": "python3"
  },
  "language_info": {
   "codemirror_mode": {
    "name": "ipython",
    "version": 3
   },
   "file_extension": ".py",
   "mimetype": "text/x-python",
   "name": "python",
   "nbconvert_exporter": "python",
   "pygments_lexer": "ipython3",
   "version": "3.11.9"
  }
 },
 "nbformat": 4,
 "nbformat_minor": 2
}
